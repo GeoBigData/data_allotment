{
 "cells": [
  {
   "cell_type": "code",
   "execution_count": 1,
   "metadata": {},
   "outputs": [],
   "source": [
    "!pip install --upgrade git+https://github.com/GeoBigData/sensortools.git@master -q"
   ]
  },
  {
   "cell_type": "code",
   "execution_count": 2,
   "metadata": {},
   "outputs": [],
   "source": [
    "%matplotlib inline\n",
    "import pandas as pd\n",
    "import seaborn as sns\n",
    "from gbdxtools import Interface\n",
    "gbdx = Interface()\n",
    "\n",
    "# DG Sensor Tools\n",
    "from sensortools import sensortools\n",
    "st = sensortools()"
   ]
  },
  {
   "cell_type": "markdown",
   "metadata": {},
   "source": [
    "# Inputs"
   ]
  },
  {
   "cell_type": "code",
   "execution_count": 3,
   "metadata": {},
   "outputs": [],
   "source": [
    "# GB of data equates to how many square kilometers of imagery?\n",
    "gb = 100\n",
    "\n",
    "# Square kilometers of imagery equates to how many GB of data?\n",
    "km2 = 10\n",
    "\n",
    "# What is the AOI? We'll use this in an image catalog search. And map out relative areas. Just needs to be WKT.\n",
    "aoi = \"POLYGON((-113.88 40.36,-110.28 40.36,-110.28 37.56,-113.88 37.56,-113.88 40.36))\"\n",
    "\n",
    "# What is the start date of your image search?\n",
    "start_date = '2010-01-01T00:00:00.000Z'\n",
    "\n",
    "# What is the end date of your image search?\n",
    "end_date = '2012-01-01T00:00:00.000Z'\n",
    "\n",
    "# Any filters you'd like to add to the image search? \n",
    "filters = None"
   ]
  },
  {
   "cell_type": "markdown",
   "metadata": {},
   "source": [
    "### Filter Examples\n",
    "\n",
    "filters = [\n",
    "'cloudCover < 10',\n",
    "'offNadirAngle < 15',\n",
    "'imageBands = Pan_MS1_MS2'\n",
    "]"
   ]
  },
  {
   "cell_type": "code",
   "execution_count": 4,
   "metadata": {},
   "outputs": [
    {
     "data": {
      "text/html": [
       "<div>\n",
       "<style scoped>\n",
       "    .dataframe tbody tr th:only-of-type {\n",
       "        vertical-align: middle;\n",
       "    }\n",
       "\n",
       "    .dataframe tbody tr th {\n",
       "        vertical-align: top;\n",
       "    }\n",
       "\n",
       "    .dataframe thead th {\n",
       "        text-align: right;\n",
       "    }\n",
       "</style>\n",
       "<table border=\"1\" class=\"dataframe\">\n",
       "  <thead>\n",
       "    <tr style=\"text-align: right;\">\n",
       "      <th></th>\n",
       "      <th>Sensor</th>\n",
       "      <th>Resolution (m)</th>\n",
       "      <th>Band Count</th>\n",
       "      <th>Area (km2)</th>\n",
       "    </tr>\n",
       "  </thead>\n",
       "  <tbody>\n",
       "    <tr>\n",
       "      <th>0</th>\n",
       "      <td>GE01_Pan</td>\n",
       "      <td>0.41</td>\n",
       "      <td>1</td>\n",
       "      <td>4512</td>\n",
       "    </tr>\n",
       "    <tr>\n",
       "      <th>1</th>\n",
       "      <td>GE01_MS</td>\n",
       "      <td>1.64</td>\n",
       "      <td>4</td>\n",
       "      <td>18049</td>\n",
       "    </tr>\n",
       "    <tr>\n",
       "      <th>2</th>\n",
       "      <td>WV01_Pan</td>\n",
       "      <td>0.50</td>\n",
       "      <td>1</td>\n",
       "      <td>6710</td>\n",
       "    </tr>\n",
       "    <tr>\n",
       "      <th>3</th>\n",
       "      <td>WV02_Pan</td>\n",
       "      <td>0.46</td>\n",
       "      <td>1</td>\n",
       "      <td>5680</td>\n",
       "    </tr>\n",
       "    <tr>\n",
       "      <th>4</th>\n",
       "      <td>WV02_MS</td>\n",
       "      <td>1.85</td>\n",
       "      <td>8</td>\n",
       "      <td>11484</td>\n",
       "    </tr>\n",
       "    <tr>\n",
       "      <th>5</th>\n",
       "      <td>WV03_Pan</td>\n",
       "      <td>0.31</td>\n",
       "      <td>1</td>\n",
       "      <td>2579</td>\n",
       "    </tr>\n",
       "    <tr>\n",
       "      <th>6</th>\n",
       "      <td>WV03_MS</td>\n",
       "      <td>1.24</td>\n",
       "      <td>8</td>\n",
       "      <td>5159</td>\n",
       "    </tr>\n",
       "    <tr>\n",
       "      <th>7</th>\n",
       "      <td>WV03_SWIR</td>\n",
       "      <td>3.70</td>\n",
       "      <td>8</td>\n",
       "      <td>45936</td>\n",
       "    </tr>\n",
       "    <tr>\n",
       "      <th>8</th>\n",
       "      <td>WV04_Pan</td>\n",
       "      <td>0.31</td>\n",
       "      <td>1</td>\n",
       "      <td>2579</td>\n",
       "    </tr>\n",
       "    <tr>\n",
       "      <th>9</th>\n",
       "      <td>WV04_MS</td>\n",
       "      <td>1.24</td>\n",
       "      <td>4</td>\n",
       "      <td>10318</td>\n",
       "    </tr>\n",
       "  </tbody>\n",
       "</table>\n",
       "</div>"
      ],
      "text/plain": [
       "      Sensor  Resolution (m) Band Count  Area (km2)\n",
       "0   GE01_Pan            0.41          1        4512\n",
       "1    GE01_MS            1.64          4       18049\n",
       "2   WV01_Pan            0.50          1        6710\n",
       "3   WV02_Pan            0.46          1        5680\n",
       "4    WV02_MS            1.85          8       11484\n",
       "5   WV03_Pan            0.31          1        2579\n",
       "6    WV03_MS            1.24          8        5159\n",
       "7  WV03_SWIR            3.70          8       45936\n",
       "8   WV04_Pan            0.31          1        2579\n",
       "9    WV04_MS            1.24          4       10318"
      ]
     },
     "execution_count": 4,
     "metadata": {},
     "output_type": "execute_result"
    }
   ],
   "source": [
    "# Convert GB to km2, return for all sensors as pandas df\n",
    "# if you know the GB of the account, then determine area coverage\n",
    "st.gb_to_km2(gb)"
   ]
  },
  {
   "cell_type": "code",
   "execution_count": 5,
   "metadata": {},
   "outputs": [
    {
     "data": {
      "text/html": [
       "<div>\n",
       "<style scoped>\n",
       "    .dataframe tbody tr th:only-of-type {\n",
       "        vertical-align: middle;\n",
       "    }\n",
       "\n",
       "    .dataframe tbody tr th {\n",
       "        vertical-align: top;\n",
       "    }\n",
       "\n",
       "    .dataframe thead th {\n",
       "        text-align: right;\n",
       "    }\n",
       "</style>\n",
       "<table border=\"1\" class=\"dataframe\">\n",
       "  <thead>\n",
       "    <tr style=\"text-align: right;\">\n",
       "      <th></th>\n",
       "      <th>Sensor</th>\n",
       "      <th>Resolution (m)</th>\n",
       "      <th>Band Count</th>\n",
       "      <th>GB</th>\n",
       "    </tr>\n",
       "  </thead>\n",
       "  <tbody>\n",
       "    <tr>\n",
       "      <th>0</th>\n",
       "      <td>GE01_Pan</td>\n",
       "      <td>0.41</td>\n",
       "      <td>1</td>\n",
       "      <td>0.221612</td>\n",
       "    </tr>\n",
       "    <tr>\n",
       "      <th>1</th>\n",
       "      <td>GE01_MS</td>\n",
       "      <td>1.64</td>\n",
       "      <td>4</td>\n",
       "      <td>0.0554029</td>\n",
       "    </tr>\n",
       "    <tr>\n",
       "      <th>2</th>\n",
       "      <td>WV01_Pan</td>\n",
       "      <td>0.50</td>\n",
       "      <td>1</td>\n",
       "      <td>0.149012</td>\n",
       "    </tr>\n",
       "    <tr>\n",
       "      <th>3</th>\n",
       "      <td>WV02_Pan</td>\n",
       "      <td>0.46</td>\n",
       "      <td>1</td>\n",
       "      <td>0.176053</td>\n",
       "    </tr>\n",
       "    <tr>\n",
       "      <th>4</th>\n",
       "      <td>WV02_MS</td>\n",
       "      <td>1.85</td>\n",
       "      <td>8</td>\n",
       "      <td>0.0870776</td>\n",
       "    </tr>\n",
       "    <tr>\n",
       "      <th>5</th>\n",
       "      <td>WV03_Pan</td>\n",
       "      <td>0.31</td>\n",
       "      <td>1</td>\n",
       "      <td>0.387647</td>\n",
       "    </tr>\n",
       "    <tr>\n",
       "      <th>6</th>\n",
       "      <td>WV03_MS</td>\n",
       "      <td>1.24</td>\n",
       "      <td>8</td>\n",
       "      <td>0.193824</td>\n",
       "    </tr>\n",
       "    <tr>\n",
       "      <th>7</th>\n",
       "      <td>WV03_SWIR</td>\n",
       "      <td>3.70</td>\n",
       "      <td>8</td>\n",
       "      <td>0.0217694</td>\n",
       "    </tr>\n",
       "    <tr>\n",
       "      <th>8</th>\n",
       "      <td>WV04_Pan</td>\n",
       "      <td>0.31</td>\n",
       "      <td>1</td>\n",
       "      <td>0.387647</td>\n",
       "    </tr>\n",
       "    <tr>\n",
       "      <th>9</th>\n",
       "      <td>WV04_MS</td>\n",
       "      <td>1.24</td>\n",
       "      <td>4</td>\n",
       "      <td>0.0969118</td>\n",
       "    </tr>\n",
       "  </tbody>\n",
       "</table>\n",
       "</div>"
      ],
      "text/plain": [
       "      Sensor  Resolution (m) Band Count         GB\n",
       "0   GE01_Pan            0.41          1   0.221612\n",
       "1    GE01_MS            1.64          4  0.0554029\n",
       "2   WV01_Pan            0.50          1   0.149012\n",
       "3   WV02_Pan            0.46          1   0.176053\n",
       "4    WV02_MS            1.85          8  0.0870776\n",
       "5   WV03_Pan            0.31          1   0.387647\n",
       "6    WV03_MS            1.24          8   0.193824\n",
       "7  WV03_SWIR            3.70          8  0.0217694\n",
       "8   WV04_Pan            0.31          1   0.387647\n",
       "9    WV04_MS            1.24          4  0.0969118"
      ]
     },
     "execution_count": 5,
     "metadata": {},
     "output_type": "execute_result"
    }
   ],
   "source": [
    "# Convert km2 to GB, return for all sensors as pandas df\n",
    "# if you know the km2 requested, how many GB does this translate to? Can determine tier \n",
    "st.km2_to_gb(km2)"
   ]
  },
  {
   "cell_type": "code",
   "execution_count": 6,
   "metadata": {},
   "outputs": [
    {
     "data": {
      "text/plain": [
       "96919.77084773929"
      ]
     },
     "execution_count": 6,
     "metadata": {},
     "output_type": "execute_result"
    }
   ],
   "source": [
    "# Perhaps we know the AOI extent, so what is the AOI's area?\n",
    "# returns in km2 \n",
    "st.aoiArea(aoi)"
   ]
  },
  {
   "cell_type": "code",
   "execution_count": 7,
   "metadata": {},
   "outputs": [
    {
     "data": {
      "text/html": [
       "<div style=\"width:100%;\"><div style=\"position:relative;width:100%;height:0;padding-bottom:60%;\"><iframe src=\"data:text/html;charset=utf-8;base64,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\" style=\"position:absolute;width:100%;height:100%;left:0;top:0;border:none !important;\" allowfullscreen webkitallowfullscreen mozallowfullscreen></iframe></div></div>"
      ],
      "text/plain": [
       "<folium.folium.Map at 0x1c23e268d0>"
      ]
     },
     "execution_count": 7,
     "metadata": {},
     "output_type": "execute_result"
    }
   ],
   "source": [
    "# lets map the AOI\n",
    "st.mapAOI(aoi)"
   ]
  },
  {
   "cell_type": "code",
   "execution_count": 8,
   "metadata": {},
   "outputs": [
    {
     "data": {
      "text/html": [
       "<div>\n",
       "<style scoped>\n",
       "    .dataframe tbody tr th:only-of-type {\n",
       "        vertical-align: middle;\n",
       "    }\n",
       "\n",
       "    .dataframe tbody tr th {\n",
       "        vertical-align: top;\n",
       "    }\n",
       "\n",
       "    .dataframe thead th {\n",
       "        text-align: right;\n",
       "    }\n",
       "</style>\n",
       "<table border=\"1\" class=\"dataframe\">\n",
       "  <thead>\n",
       "    <tr style=\"text-align: right;\">\n",
       "      <th></th>\n",
       "      <th>Sensor</th>\n",
       "      <th>Resolution (m)</th>\n",
       "      <th>Band Count</th>\n",
       "      <th>GB</th>\n",
       "    </tr>\n",
       "  </thead>\n",
       "  <tbody>\n",
       "    <tr>\n",
       "      <th>0</th>\n",
       "      <td>GE01_Pan</td>\n",
       "      <td>0.41</td>\n",
       "      <td>1</td>\n",
       "      <td>2147.85</td>\n",
       "    </tr>\n",
       "    <tr>\n",
       "      <th>1</th>\n",
       "      <td>GE01_MS</td>\n",
       "      <td>1.64</td>\n",
       "      <td>4</td>\n",
       "      <td>536.964</td>\n",
       "    </tr>\n",
       "    <tr>\n",
       "      <th>2</th>\n",
       "      <td>WV01_Pan</td>\n",
       "      <td>0.50</td>\n",
       "      <td>1</td>\n",
       "      <td>1444.22</td>\n",
       "    </tr>\n",
       "    <tr>\n",
       "      <th>3</th>\n",
       "      <td>WV02_Pan</td>\n",
       "      <td>0.46</td>\n",
       "      <td>1</td>\n",
       "      <td>1706.31</td>\n",
       "    </tr>\n",
       "    <tr>\n",
       "      <th>4</th>\n",
       "      <td>WV02_MS</td>\n",
       "      <td>1.85</td>\n",
       "      <td>8</td>\n",
       "      <td>843.954</td>\n",
       "    </tr>\n",
       "    <tr>\n",
       "      <th>5</th>\n",
       "      <td>WV03_Pan</td>\n",
       "      <td>0.31</td>\n",
       "      <td>1</td>\n",
       "      <td>3757.07</td>\n",
       "    </tr>\n",
       "    <tr>\n",
       "      <th>6</th>\n",
       "      <td>WV03_MS</td>\n",
       "      <td>1.24</td>\n",
       "      <td>8</td>\n",
       "      <td>1878.53</td>\n",
       "    </tr>\n",
       "    <tr>\n",
       "      <th>7</th>\n",
       "      <td>WV03_SWIR</td>\n",
       "      <td>3.70</td>\n",
       "      <td>8</td>\n",
       "      <td>210.989</td>\n",
       "    </tr>\n",
       "    <tr>\n",
       "      <th>8</th>\n",
       "      <td>WV04_Pan</td>\n",
       "      <td>0.31</td>\n",
       "      <td>1</td>\n",
       "      <td>3757.07</td>\n",
       "    </tr>\n",
       "    <tr>\n",
       "      <th>9</th>\n",
       "      <td>WV04_MS</td>\n",
       "      <td>1.24</td>\n",
       "      <td>4</td>\n",
       "      <td>939.267</td>\n",
       "    </tr>\n",
       "  </tbody>\n",
       "</table>\n",
       "</div>"
      ],
      "text/plain": [
       "      Sensor  Resolution (m) Band Count       GB\n",
       "0   GE01_Pan            0.41          1  2147.85\n",
       "1    GE01_MS            1.64          4  536.964\n",
       "2   WV01_Pan            0.50          1  1444.22\n",
       "3   WV02_Pan            0.46          1  1706.31\n",
       "4    WV02_MS            1.85          8  843.954\n",
       "5   WV03_Pan            0.31          1  3757.07\n",
       "6    WV03_MS            1.24          8  1878.53\n",
       "7  WV03_SWIR            3.70          8  210.989\n",
       "8   WV04_Pan            0.31          1  3757.07\n",
       "9    WV04_MS            1.24          4  939.267"
      ]
     },
     "execution_count": 8,
     "metadata": {},
     "output_type": "execute_result"
    }
   ],
   "source": [
    "# we can use the AOI area to see how this translates to GB of imagery\n",
    "st.km2_to_gb(st.aoiArea(aoi))"
   ]
  },
  {
   "cell_type": "code",
   "execution_count": 9,
   "metadata": {},
   "outputs": [],
   "source": [
    "# Perhaps we have a specific datetime range in mind, then we need to conduct image search...\n",
    "# we may not have the coverage, check out what we have and return the results in something we can parse\n",
    "results = gbdx.catalog.search(searchAreaWkt=aoi, startDate=start_date, endDate=end_date, filters=filters)"
   ]
  },
  {
   "cell_type": "code",
   "execution_count": 15,
   "metadata": {},
   "outputs": [
    {
     "data": {
      "text/plain": [
       "{'sunAzimuth': 161.46936,\n",
       " 'cloudCover': 0,\n",
       " 'targetAzimuth': 246.95633,\n",
       " 'multiResolution': 3.4622048,\n",
       " 'zone': '12N',\n",
       " 'catalogID': '2011012818331540000011610793',\n",
       " 'offNadirAngle': 16.482355963643116,\n",
       " 'platformName': 'IKONOS',\n",
       " 'sunElevation': 29.780697,\n",
       " 'vendor': 'DigitalGlobe',\n",
       " 'timestamp': '2011-01-28T18:33:15.000Z',\n",
       " 'bucketPrefix': 'po_1454498',\n",
       " 'bucketName': 'ikonos-product',\n",
       " 'panResolution': 0.8655512,\n",
       " 'footprintWkt': 'MULTIPOLYGON(((-111.750339355 40.2780416877, -111.70387511 40.2792502793, -111.654765553 40.2806374575, -111.654512891 40.2408170296, -111.654483793 40.2008498024, -111.654589846 40.1608303707, -111.703937808 40.1593291785, -111.750665672 40.1579972211, -111.799769848 40.1567189048, -111.799563543 40.1968097682, -111.799445369 40.2368626703, -111.799345067 40.2768348139, -111.750339355 40.2780416877)))',\n",
       " 'components': 1,\n",
       " 'imageBands': 'PAN_MS1',\n",
       " 'sensorPlatformName': 'IKONOS'}"
      ]
     },
     "execution_count": 15,
     "metadata": {},
     "output_type": "execute_result"
    }
   ],
   "source": [
    "results[1]['properties']"
   ]
  },
  {
   "cell_type": "code",
   "execution_count": 10,
   "metadata": {},
   "outputs": [
    {
     "data": {
      "text/html": [
       "<div>\n",
       "<style scoped>\n",
       "    .dataframe tbody tr th:only-of-type {\n",
       "        vertical-align: middle;\n",
       "    }\n",
       "\n",
       "    .dataframe tbody tr th {\n",
       "        vertical-align: top;\n",
       "    }\n",
       "\n",
       "    .dataframe thead th {\n",
       "        text-align: right;\n",
       "    }\n",
       "</style>\n",
       "<table border=\"1\" class=\"dataframe\">\n",
       "  <thead>\n",
       "    <tr style=\"text-align: right;\">\n",
       "      <th></th>\n",
       "      <th>Sensor</th>\n",
       "      <th>Date</th>\n",
       "      <th>x</th>\n",
       "    </tr>\n",
       "  </thead>\n",
       "  <tbody>\n",
       "    <tr>\n",
       "      <th>2010-01-05 18:14:14.446</th>\n",
       "      <td>QUICKBIRD02</td>\n",
       "      <td>2010-01-05 18:14:14.446</td>\n",
       "      <td>0</td>\n",
       "    </tr>\n",
       "    <tr>\n",
       "      <th>2010-01-06 18:33:25.549</th>\n",
       "      <td>WORLDVIEW01</td>\n",
       "      <td>2010-01-06 18:33:25.549</td>\n",
       "      <td>1</td>\n",
       "    </tr>\n",
       "    <tr>\n",
       "      <th>2010-01-10 18:19:28.842</th>\n",
       "      <td>QUICKBIRD02</td>\n",
       "      <td>2010-01-10 18:19:28.842</td>\n",
       "      <td>2</td>\n",
       "    </tr>\n",
       "    <tr>\n",
       "      <th>2010-01-10 18:21:16.599</th>\n",
       "      <td>WORLDVIEW02</td>\n",
       "      <td>2010-01-10 18:21:16.599</td>\n",
       "      <td>3</td>\n",
       "    </tr>\n",
       "    <tr>\n",
       "      <th>2010-01-10 18:39:48.538</th>\n",
       "      <td>WORLDVIEW01</td>\n",
       "      <td>2010-01-10 18:39:48.538</td>\n",
       "      <td>4</td>\n",
       "    </tr>\n",
       "  </tbody>\n",
       "</table>\n",
       "</div>"
      ],
      "text/plain": [
       "                              Sensor                    Date  x\n",
       "2010-01-05 18:14:14.446  QUICKBIRD02 2010-01-05 18:14:14.446  0\n",
       "2010-01-06 18:33:25.549  WORLDVIEW01 2010-01-06 18:33:25.549  1\n",
       "2010-01-10 18:19:28.842  QUICKBIRD02 2010-01-10 18:19:28.842  2\n",
       "2010-01-10 18:21:16.599  WORLDVIEW02 2010-01-10 18:21:16.599  3\n",
       "2010-01-10 18:39:48.538  WORLDVIEW01 2010-01-10 18:39:48.538  4"
      ]
     },
     "execution_count": 10,
     "metadata": {},
     "output_type": "execute_result"
    }
   ],
   "source": [
    "# We must format our search results into something that we can plot and use\n",
    "# formatting the search results also stores them in the sensortools object for later use \n",
    "st.formatSearchResults(results)\n",
    "# take a look at the formatted results. This can be use by itself, or use built-in plot (below)\n",
    "st.search_df.head()"
   ]
  },
  {
   "cell_type": "code",
   "execution_count": 11,
   "metadata": {},
   "outputs": [
    {
     "data": {
      "image/png": "[encoded data removed]",
      "text/plain": [
       "<Figure size 864x432 with 1 Axes>"
      ]
     },
     "metadata": {},
     "output_type": "display_data"
    }
   ],
   "source": [
    "# Plot the results of our image search\n",
    "# Legend shows counts of imagery found by sensor, dots show coverage over time \n",
    "st.searchScatterPlot()"
   ]
  },
  {
   "cell_type": "code",
   "execution_count": 12,
   "metadata": {},
   "outputs": [
    {
     "data": {
      "image/png": "[encoded data removed]",
      "text/plain": [
       "<Figure size 1080x432 with 1 Axes>"
      ]
     },
     "metadata": {},
     "output_type": "display_data"
    }
   ],
   "source": [
    "# barplot showing counts of imagery for AOI\n",
    "st.searchBarPlot()"
   ]
  },
  {
   "cell_type": "code",
   "execution_count": 11,
   "metadata": {},
   "outputs": [
    {
     "data": {
      "text/html": [
       "<div>\n",
       "<style scoped>\n",
       "    .dataframe tbody tr th:only-of-type {\n",
       "        vertical-align: middle;\n",
       "    }\n",
       "\n",
       "    .dataframe tbody tr th {\n",
       "        vertical-align: top;\n",
       "    }\n",
       "\n",
       "    .dataframe thead th {\n",
       "        text-align: right;\n",
       "    }\n",
       "</style>\n",
       "<table border=\"1\" class=\"dataframe\">\n",
       "  <thead>\n",
       "    <tr style=\"text-align: right;\">\n",
       "      <th></th>\n",
       "      <th>Sensor</th>\n",
       "      <th>Resolution (m)</th>\n",
       "      <th>Band Count</th>\n",
       "      <th>GB</th>\n",
       "    </tr>\n",
       "  </thead>\n",
       "  <tbody>\n",
       "    <tr>\n",
       "      <th>0</th>\n",
       "      <td>GE01_Pan</td>\n",
       "      <td>0.41</td>\n",
       "      <td>1</td>\n",
       "      <td>39.6685</td>\n",
       "    </tr>\n",
       "    <tr>\n",
       "      <th>1</th>\n",
       "      <td>GE01_MS</td>\n",
       "      <td>1.64</td>\n",
       "      <td>4</td>\n",
       "      <td>9.91712</td>\n",
       "    </tr>\n",
       "    <tr>\n",
       "      <th>2</th>\n",
       "      <td>WV01_Pan</td>\n",
       "      <td>0.50</td>\n",
       "      <td>1</td>\n",
       "      <td>26.6731</td>\n",
       "    </tr>\n",
       "    <tr>\n",
       "      <th>3</th>\n",
       "      <td>WV02_Pan</td>\n",
       "      <td>0.46</td>\n",
       "      <td>1</td>\n",
       "      <td>31.5136</td>\n",
       "    </tr>\n",
       "    <tr>\n",
       "      <th>4</th>\n",
       "      <td>WV02_MS</td>\n",
       "      <td>1.85</td>\n",
       "      <td>8</td>\n",
       "      <td>15.5869</td>\n",
       "    </tr>\n",
       "    <tr>\n",
       "      <th>5</th>\n",
       "      <td>WV03_Pan</td>\n",
       "      <td>0.31</td>\n",
       "      <td>1</td>\n",
       "      <td>69.3889</td>\n",
       "    </tr>\n",
       "    <tr>\n",
       "      <th>6</th>\n",
       "      <td>WV03_MS</td>\n",
       "      <td>1.24</td>\n",
       "      <td>8</td>\n",
       "      <td>34.6944</td>\n",
       "    </tr>\n",
       "    <tr>\n",
       "      <th>7</th>\n",
       "      <td>WV03_SWIR</td>\n",
       "      <td>3.70</td>\n",
       "      <td>8</td>\n",
       "      <td>3.89672</td>\n",
       "    </tr>\n",
       "    <tr>\n",
       "      <th>8</th>\n",
       "      <td>WV04_Pan</td>\n",
       "      <td>0.31</td>\n",
       "      <td>1</td>\n",
       "      <td>69.3889</td>\n",
       "    </tr>\n",
       "    <tr>\n",
       "      <th>9</th>\n",
       "      <td>WV04_MS</td>\n",
       "      <td>1.24</td>\n",
       "      <td>4</td>\n",
       "      <td>17.3472</td>\n",
       "    </tr>\n",
       "  </tbody>\n",
       "</table>\n",
       "</div>"
      ],
      "text/plain": [
       "      Sensor  Resolution (m) Band Count       GB\n",
       "0   GE01_Pan            0.41          1  39.6685\n",
       "1    GE01_MS            1.64          4  9.91712\n",
       "2   WV01_Pan            0.50          1  26.6731\n",
       "3   WV02_Pan            0.46          1  31.5136\n",
       "4    WV02_MS            1.85          8  15.5869\n",
       "5   WV03_Pan            0.31          1  69.3889\n",
       "6    WV03_MS            1.24          8  34.6944\n",
       "7  WV03_SWIR            3.70          8  3.89672\n",
       "8   WV04_Pan            0.31          1  69.3889\n",
       "9    WV04_MS            1.24          4  17.3472"
      ]
     },
     "execution_count": 11,
     "metadata": {},
     "output_type": "execute_result"
    }
   ],
   "source": [
    "# How can we use the count results from the plot?\n",
    "# Lets say we have an AOI that we estimate to be around 10 km2. WE know we want as much WV2 imagery\n",
    "# from 2010-2012 as we can get \n",
    "st.km2_to_gb(10 * 179)\n",
    "# looking at table below, we see WV2 Pan is ~31 GB and WV2 MS is ~15 GB "
   ]
  },
  {
   "cell_type": "code",
   "execution_count": 12,
   "metadata": {},
   "outputs": [
    {
     "data": {
      "text/html": [
       "<div style=\"width:100%;\"><div style=\"position:relative;width:100%;height:0;padding-bottom:60%;\"><iframe src=\"data:text/html;charset=utf-8;base64,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\" style=\"position:absolute;width:100%;height:100%;left:0;top:0;border:none !important;\" allowfullscreen webkitallowfullscreen mozallowfullscreen></iframe></div></div>"
      ],
      "text/plain": [
       "<folium.folium.Map at 0x1c1f310860>"
      ]
     },
     "execution_count": 12,
     "metadata": {},
     "output_type": "execute_result"
    }
   ],
   "source": [
    "# How does sensor GB translate to area on a map? \n",
    "# change the GB allotment and see the extent coverage for each sensor\n",
    "# change the initial location by inputing aoi=[lat, lon] into the function (otherwise defaults to Denver, CO)\n",
    "# or simply feed in the WKT polygon aoi from the main inputs and a centroid will be calculated\n",
    "st.mapGB(gb=100)"
   ]
  },
  {
   "cell_type": "code",
   "execution_count": 13,
   "metadata": {},
   "outputs": [
    {
     "data": {
      "text/html": [
       "<div style=\"width:100%;\"><div style=\"position:relative;width:100%;height:0;padding-bottom:60%;\"><iframe src=\"data:text/html;charset=utf-8;base64,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\" style=\"position:absolute;width:100%;height:100%;left:0;top:0;border:none !important;\" allowfullscreen webkitallowfullscreen mozallowfullscreen></iframe></div></div>"
      ],
      "text/plain": [
       "<folium.folium.Map at 0x1c1f3cd898>"
      ]
     },
     "execution_count": 13,
     "metadata": {},
     "output_type": "execute_result"
    }
   ],
   "source": [
    "# showing another location\n",
    "st.mapGB(gb=100, aoi=[35.68, 139.69])"
   ]
  },
  {
   "cell_type": "code",
   "execution_count": 15,
   "metadata": {},
   "outputs": [
    {
     "data": {
      "text/html": [
       "<div style=\"width:100%;\"><div style=\"position:relative;width:100%;height:0;padding-bottom:60%;\"><iframe src=\"data:text/html;charset=utf-8;base64,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\" style=\"position:absolute;width:100%;height:100%;left:0;top:0;border:none !important;\" allowfullscreen webkitallowfullscreen mozallowfullscreen></iframe></div></div>"
      ],
      "text/plain": [
       "<folium.folium.Map at 0x1c1f3f60b8>"
      ]
     },
     "execution_count": 15,
     "metadata": {},
     "output_type": "execute_result"
    }
   ],
   "source": [
    "# or we can feed in the AOI, which initializes our map at the center of the AOI \n",
    "st.mapGB(gb=100, aoi=aoi)"
   ]
  },
  {
   "cell_type": "markdown",
   "metadata": {},
   "source": [
    "# Advanced summaries for the search results"
   ]
  },
  {
   "cell_type": "code",
   "execution_count": 15,
   "metadata": {},
   "outputs": [
    {
     "data": {
      "text/html": [
       "<div>\n",
       "<style scoped>\n",
       "    .dataframe tbody tr th:only-of-type {\n",
       "        vertical-align: middle;\n",
       "    }\n",
       "\n",
       "    .dataframe tbody tr th {\n",
       "        vertical-align: top;\n",
       "    }\n",
       "\n",
       "    .dataframe thead th {\n",
       "        text-align: right;\n",
       "    }\n",
       "</style>\n",
       "<table border=\"1\" class=\"dataframe\">\n",
       "  <thead>\n",
       "    <tr style=\"text-align: right;\">\n",
       "      <th></th>\n",
       "      <th>Date</th>\n",
       "      <th>x</th>\n",
       "    </tr>\n",
       "    <tr>\n",
       "      <th>Sensor</th>\n",
       "      <th></th>\n",
       "      <th></th>\n",
       "    </tr>\n",
       "  </thead>\n",
       "  <tbody>\n",
       "    <tr>\n",
       "      <th>GEOEYE01</th>\n",
       "      <td>67</td>\n",
       "      <td>67</td>\n",
       "    </tr>\n",
       "    <tr>\n",
       "      <th>IKONOS</th>\n",
       "      <td>49</td>\n",
       "      <td>49</td>\n",
       "    </tr>\n",
       "    <tr>\n",
       "      <th>QUICKBIRD02</th>\n",
       "      <td>62</td>\n",
       "      <td>62</td>\n",
       "    </tr>\n",
       "    <tr>\n",
       "      <th>WORLDVIEW01</th>\n",
       "      <td>344</td>\n",
       "      <td>344</td>\n",
       "    </tr>\n",
       "    <tr>\n",
       "      <th>WORLDVIEW02</th>\n",
       "      <td>179</td>\n",
       "      <td>179</td>\n",
       "    </tr>\n",
       "  </tbody>\n",
       "</table>\n",
       "</div>"
      ],
      "text/plain": [
       "             Date    x\n",
       "Sensor                \n",
       "GEOEYE01       67   67\n",
       "IKONOS         49   49\n",
       "QUICKBIRD02    62   62\n",
       "WORLDVIEW01   344  344\n",
       "WORLDVIEW02   179  179"
      ]
     },
     "execution_count": 15,
     "metadata": {},
     "output_type": "execute_result"
    }
   ],
   "source": [
    "# return dataframe with count of sensors between date\n",
    "st.search_df.groupby(['Sensor']).count()"
   ]
  },
  {
   "cell_type": "code",
   "execution_count": 16,
   "metadata": {},
   "outputs": [
    {
     "data": {
      "text/html": [
       "<div>\n",
       "<style scoped>\n",
       "    .dataframe tbody tr th:only-of-type {\n",
       "        vertical-align: middle;\n",
       "    }\n",
       "\n",
       "    .dataframe tbody tr th {\n",
       "        vertical-align: top;\n",
       "    }\n",
       "\n",
       "    .dataframe thead th {\n",
       "        text-align: right;\n",
       "    }\n",
       "</style>\n",
       "<table border=\"1\" class=\"dataframe\">\n",
       "  <thead>\n",
       "    <tr style=\"text-align: right;\">\n",
       "      <th></th>\n",
       "      <th></th>\n",
       "      <th></th>\n",
       "      <th>Date</th>\n",
       "      <th>x</th>\n",
       "    </tr>\n",
       "    <tr>\n",
       "      <th>Sensor</th>\n",
       "      <th></th>\n",
       "      <th></th>\n",
       "      <th></th>\n",
       "      <th></th>\n",
       "    </tr>\n",
       "  </thead>\n",
       "  <tbody>\n",
       "    <tr>\n",
       "      <th rowspan=\"20\" valign=\"top\">GEOEYE01</th>\n",
       "      <th rowspan=\"10\" valign=\"top\">2010</th>\n",
       "      <th>2</th>\n",
       "      <td>1</td>\n",
       "      <td>1</td>\n",
       "    </tr>\n",
       "    <tr>\n",
       "      <th>3</th>\n",
       "      <td>1</td>\n",
       "      <td>1</td>\n",
       "    </tr>\n",
       "    <tr>\n",
       "      <th>4</th>\n",
       "      <td>2</td>\n",
       "      <td>2</td>\n",
       "    </tr>\n",
       "    <tr>\n",
       "      <th>5</th>\n",
       "      <td>4</td>\n",
       "      <td>4</td>\n",
       "    </tr>\n",
       "    <tr>\n",
       "      <th>6</th>\n",
       "      <td>3</td>\n",
       "      <td>3</td>\n",
       "    </tr>\n",
       "    <tr>\n",
       "      <th>7</th>\n",
       "      <td>5</td>\n",
       "      <td>5</td>\n",
       "    </tr>\n",
       "    <tr>\n",
       "      <th>8</th>\n",
       "      <td>4</td>\n",
       "      <td>4</td>\n",
       "    </tr>\n",
       "    <tr>\n",
       "      <th>9</th>\n",
       "      <td>3</td>\n",
       "      <td>3</td>\n",
       "    </tr>\n",
       "    <tr>\n",
       "      <th>10</th>\n",
       "      <td>1</td>\n",
       "      <td>1</td>\n",
       "    </tr>\n",
       "    <tr>\n",
       "      <th>11</th>\n",
       "      <td>4</td>\n",
       "      <td>4</td>\n",
       "    </tr>\n",
       "    <tr>\n",
       "      <th rowspan=\"10\" valign=\"top\">2011</th>\n",
       "      <th>2</th>\n",
       "      <td>1</td>\n",
       "      <td>1</td>\n",
       "    </tr>\n",
       "    <tr>\n",
       "      <th>3</th>\n",
       "      <td>3</td>\n",
       "      <td>3</td>\n",
       "    </tr>\n",
       "    <tr>\n",
       "      <th>4</th>\n",
       "      <td>3</td>\n",
       "      <td>3</td>\n",
       "    </tr>\n",
       "    <tr>\n",
       "      <th>5</th>\n",
       "      <td>2</td>\n",
       "      <td>2</td>\n",
       "    </tr>\n",
       "    <tr>\n",
       "      <th>6</th>\n",
       "      <td>2</td>\n",
       "      <td>2</td>\n",
       "    </tr>\n",
       "    <tr>\n",
       "      <th>7</th>\n",
       "      <td>1</td>\n",
       "      <td>1</td>\n",
       "    </tr>\n",
       "    <tr>\n",
       "      <th>8</th>\n",
       "      <td>1</td>\n",
       "      <td>1</td>\n",
       "    </tr>\n",
       "    <tr>\n",
       "      <th>9</th>\n",
       "      <td>10</td>\n",
       "      <td>10</td>\n",
       "    </tr>\n",
       "    <tr>\n",
       "      <th>10</th>\n",
       "      <td>3</td>\n",
       "      <td>3</td>\n",
       "    </tr>\n",
       "    <tr>\n",
       "      <th>11</th>\n",
       "      <td>7</td>\n",
       "      <td>7</td>\n",
       "    </tr>\n",
       "  </tbody>\n",
       "</table>\n",
       "</div>"
      ],
      "text/plain": [
       "                  Date   x\n",
       "Sensor                    \n",
       "GEOEYE01 2010 2      1   1\n",
       "              3      1   1\n",
       "              4      2   2\n",
       "              5      4   4\n",
       "              6      3   3\n",
       "              7      5   5\n",
       "              8      4   4\n",
       "              9      3   3\n",
       "              10     1   1\n",
       "              11     4   4\n",
       "         2011 2      1   1\n",
       "              3      3   3\n",
       "              4      3   3\n",
       "              5      2   2\n",
       "              6      2   2\n",
       "              7      1   1\n",
       "              8      1   1\n",
       "              9     10  10\n",
       "              10     3   3\n",
       "              11     7   7"
      ]
     },
     "execution_count": 16,
     "metadata": {},
     "output_type": "execute_result"
    }
   ],
   "source": [
    "# taking a step further, how many images are available by sensor, year, and month? \n",
    "st.search_df.groupby(['Sensor', st.search_df.index.year, st.search_df.index.month]).count().head(20)"
   ]
  }
 ],
 "metadata": {
  "kernelspec": {
   "display_name": "Python 3",
   "language": "python",
   "name": "python3"
  },
  "language_info": {
   "codemirror_mode": {
    "name": "ipython",
    "version": 3
   },
   "file_extension": ".py",
   "mimetype": "text/x-python",
   "name": "python",
   "nbconvert_exporter": "python",
   "pygments_lexer": "ipython3",
   "version": "3.6.5"
  }
 },
 "nbformat": 4,
 "nbformat_minor": 2
}
