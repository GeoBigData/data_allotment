{
 "cells": [
  {
   "cell_type": "code",
   "execution_count": 1,
   "metadata": {},
   "outputs": [],
   "source": [
    "!pip install --upgrade git+https://github.com/GeoBigData/sensortools.git@master -q"
   ]
  },
  {
   "cell_type": "code",
   "execution_count": null,
   "metadata": {},
   "outputs": [],
   "source": [
    "%matplotlib inline\n",
    "import pandas as pd\n",
    "import seaborn as sns\n",
    "from gbdxtools import Interface\n",
    "gbdx = Interface()\n",
    "\n",
    "# DG Sensor Tools\n",
    "from sensortools import sensortools\n",
    "st = sensortools()"
   ]
  },
  {
   "cell_type": "markdown",
   "metadata": {},
   "source": [
    "# Inputs"
   ]
  },
  {
   "cell_type": "code",
   "execution_count": 7,
   "metadata": {},
   "outputs": [],
   "source": [
    "# GB of data equates to how many square kilometers of imagery?\n",
    "gb = 100\n",
    "\n",
    "# Square kilometers of imagery equates to how many GB of data?\n",
    "km2 = 10\n",
    "\n",
    "# What is the AOI? We'll use this in an image catalog search. And map out relative areas. Just needs to be WKT.\n",
    "aoi = \"POLYGON((-113.88 40.36,-110.28 40.36,-110.28 37.56,-113.88 37.56,-113.88 40.36))\"\n",
    "\n",
    "# What is the start date of your image search?\n",
    "start_date = '2010-01-01T00:00:00.000Z'\n",
    "\n",
    "# What is the end date of your image search?\n",
    "end_date = '2012-01-01T00:00:00.000Z'\n",
    "\n",
    "# Any filters we'd like to add to the image search? \n",
    "filters = None"
   ]
  },
  {
   "cell_type": "code",
   "execution_count": 4,
   "metadata": {},
   "outputs": [
    {
     "data": {
      "text/html": [
       "<div>\n",
       "<style scoped>\n",
       "    .dataframe tbody tr th:only-of-type {\n",
       "        vertical-align: middle;\n",
       "    }\n",
       "\n",
       "    .dataframe tbody tr th {\n",
       "        vertical-align: top;\n",
       "    }\n",
       "\n",
       "    .dataframe thead th {\n",
       "        text-align: right;\n",
       "    }\n",
       "</style>\n",
       "<table border=\"1\" class=\"dataframe\">\n",
       "  <thead>\n",
       "    <tr style=\"text-align: right;\">\n",
       "      <th></th>\n",
       "      <th>Sensor</th>\n",
       "      <th>Resolution (m)</th>\n",
       "      <th>Band Count</th>\n",
       "      <th>Area (km2)</th>\n",
       "    </tr>\n",
       "  </thead>\n",
       "  <tbody>\n",
       "    <tr>\n",
       "      <th>0</th>\n",
       "      <td>GE01_Pan</td>\n",
       "      <td>0.41</td>\n",
       "      <td>1</td>\n",
       "      <td>4512</td>\n",
       "    </tr>\n",
       "    <tr>\n",
       "      <th>1</th>\n",
       "      <td>GE01_MS</td>\n",
       "      <td>1.64</td>\n",
       "      <td>4</td>\n",
       "      <td>18049</td>\n",
       "    </tr>\n",
       "    <tr>\n",
       "      <th>2</th>\n",
       "      <td>WV01_Pan</td>\n",
       "      <td>0.50</td>\n",
       "      <td>1</td>\n",
       "      <td>6710</td>\n",
       "    </tr>\n",
       "    <tr>\n",
       "      <th>3</th>\n",
       "      <td>WV02_Pan</td>\n",
       "      <td>0.46</td>\n",
       "      <td>1</td>\n",
       "      <td>5680</td>\n",
       "    </tr>\n",
       "    <tr>\n",
       "      <th>4</th>\n",
       "      <td>WV02_MS</td>\n",
       "      <td>1.85</td>\n",
       "      <td>8</td>\n",
       "      <td>11484</td>\n",
       "    </tr>\n",
       "    <tr>\n",
       "      <th>5</th>\n",
       "      <td>WV03_Pan</td>\n",
       "      <td>0.31</td>\n",
       "      <td>1</td>\n",
       "      <td>2579</td>\n",
       "    </tr>\n",
       "    <tr>\n",
       "      <th>6</th>\n",
       "      <td>WV03_MS</td>\n",
       "      <td>1.24</td>\n",
       "      <td>8</td>\n",
       "      <td>5159</td>\n",
       "    </tr>\n",
       "    <tr>\n",
       "      <th>7</th>\n",
       "      <td>WV03_SWIR</td>\n",
       "      <td>3.70</td>\n",
       "      <td>8</td>\n",
       "      <td>45936</td>\n",
       "    </tr>\n",
       "    <tr>\n",
       "      <th>8</th>\n",
       "      <td>WV04_Pan</td>\n",
       "      <td>0.31</td>\n",
       "      <td>1</td>\n",
       "      <td>2579</td>\n",
       "    </tr>\n",
       "    <tr>\n",
       "      <th>9</th>\n",
       "      <td>WV04_MS</td>\n",
       "      <td>1.24</td>\n",
       "      <td>4</td>\n",
       "      <td>10318</td>\n",
       "    </tr>\n",
       "  </tbody>\n",
       "</table>\n",
       "</div>"
      ],
      "text/plain": [
       "      Sensor  Resolution (m) Band Count  Area (km2)\n",
       "0   GE01_Pan            0.41          1        4512\n",
       "1    GE01_MS            1.64          4       18049\n",
       "2   WV01_Pan            0.50          1        6710\n",
       "3   WV02_Pan            0.46          1        5680\n",
       "4    WV02_MS            1.85          8       11484\n",
       "5   WV03_Pan            0.31          1        2579\n",
       "6    WV03_MS            1.24          8        5159\n",
       "7  WV03_SWIR            3.70          8       45936\n",
       "8   WV04_Pan            0.31          1        2579\n",
       "9    WV04_MS            1.24          4       10318"
      ]
     },
     "execution_count": 4,
     "metadata": {},
     "output_type": "execute_result"
    }
   ],
   "source": [
    "# Convert GB to km2, return for all sensors as pandas df\n",
    "st.gb_to_km2(gb)"
   ]
  },
  {
   "cell_type": "code",
   "execution_count": 5,
   "metadata": {},
   "outputs": [
    {
     "data": {
      "text/html": [
       "<div>\n",
       "<style scoped>\n",
       "    .dataframe tbody tr th:only-of-type {\n",
       "        vertical-align: middle;\n",
       "    }\n",
       "\n",
       "    .dataframe tbody tr th {\n",
       "        vertical-align: top;\n",
       "    }\n",
       "\n",
       "    .dataframe thead th {\n",
       "        text-align: right;\n",
       "    }\n",
       "</style>\n",
       "<table border=\"1\" class=\"dataframe\">\n",
       "  <thead>\n",
       "    <tr style=\"text-align: right;\">\n",
       "      <th></th>\n",
       "      <th>Sensor</th>\n",
       "      <th>Resolution (m)</th>\n",
       "      <th>Band Count</th>\n",
       "      <th>GB</th>\n",
       "    </tr>\n",
       "  </thead>\n",
       "  <tbody>\n",
       "    <tr>\n",
       "      <th>0</th>\n",
       "      <td>GE01_Pan</td>\n",
       "      <td>0.41</td>\n",
       "      <td>1</td>\n",
       "      <td>0.221612</td>\n",
       "    </tr>\n",
       "    <tr>\n",
       "      <th>1</th>\n",
       "      <td>GE01_MS</td>\n",
       "      <td>1.64</td>\n",
       "      <td>4</td>\n",
       "      <td>0.0554029</td>\n",
       "    </tr>\n",
       "    <tr>\n",
       "      <th>2</th>\n",
       "      <td>WV01_Pan</td>\n",
       "      <td>0.50</td>\n",
       "      <td>1</td>\n",
       "      <td>0.149012</td>\n",
       "    </tr>\n",
       "    <tr>\n",
       "      <th>3</th>\n",
       "      <td>WV02_Pan</td>\n",
       "      <td>0.46</td>\n",
       "      <td>1</td>\n",
       "      <td>0.176053</td>\n",
       "    </tr>\n",
       "    <tr>\n",
       "      <th>4</th>\n",
       "      <td>WV02_MS</td>\n",
       "      <td>1.85</td>\n",
       "      <td>8</td>\n",
       "      <td>0.0870776</td>\n",
       "    </tr>\n",
       "    <tr>\n",
       "      <th>5</th>\n",
       "      <td>WV03_Pan</td>\n",
       "      <td>0.31</td>\n",
       "      <td>1</td>\n",
       "      <td>0.387647</td>\n",
       "    </tr>\n",
       "    <tr>\n",
       "      <th>6</th>\n",
       "      <td>WV03_MS</td>\n",
       "      <td>1.24</td>\n",
       "      <td>8</td>\n",
       "      <td>0.193824</td>\n",
       "    </tr>\n",
       "    <tr>\n",
       "      <th>7</th>\n",
       "      <td>WV03_SWIR</td>\n",
       "      <td>3.70</td>\n",
       "      <td>8</td>\n",
       "      <td>0.0217694</td>\n",
       "    </tr>\n",
       "    <tr>\n",
       "      <th>8</th>\n",
       "      <td>WV04_Pan</td>\n",
       "      <td>0.31</td>\n",
       "      <td>1</td>\n",
       "      <td>0.387647</td>\n",
       "    </tr>\n",
       "    <tr>\n",
       "      <th>9</th>\n",
       "      <td>WV04_MS</td>\n",
       "      <td>1.24</td>\n",
       "      <td>4</td>\n",
       "      <td>0.0969118</td>\n",
       "    </tr>\n",
       "  </tbody>\n",
       "</table>\n",
       "</div>"
      ],
      "text/plain": [
       "      Sensor  Resolution (m) Band Count         GB\n",
       "0   GE01_Pan            0.41          1   0.221612\n",
       "1    GE01_MS            1.64          4  0.0554029\n",
       "2   WV01_Pan            0.50          1   0.149012\n",
       "3   WV02_Pan            0.46          1   0.176053\n",
       "4    WV02_MS            1.85          8  0.0870776\n",
       "5   WV03_Pan            0.31          1   0.387647\n",
       "6    WV03_MS            1.24          8   0.193824\n",
       "7  WV03_SWIR            3.70          8  0.0217694\n",
       "8   WV04_Pan            0.31          1   0.387647\n",
       "9    WV04_MS            1.24          4  0.0969118"
      ]
     },
     "execution_count": 5,
     "metadata": {},
     "output_type": "execute_result"
    }
   ],
   "source": [
    "# Convert km2 to GB, return for all sensors as pandas df\n",
    "st.km2_to_gb(km2)"
   ]
  },
  {
   "cell_type": "code",
   "execution_count": 8,
   "metadata": {},
   "outputs": [],
   "source": [
    "# Conduct image search\n",
    "results = gbdx.catalog.search(searchAreaWkt=aoi, startDate=start_date, endDate=end_date, filters=filters)"
   ]
  },
  {
   "cell_type": "code",
   "execution_count": 9,
   "metadata": {},
   "outputs": [
    {
     "data": {
      "image/png": "[encoded data removed]",
      "text/plain": [
       "<Figure size 864x432 with 1 Axes>"
      ]
     },
     "metadata": {},
     "output_type": "display_data"
    }
   ],
   "source": [
    "# Plot the results of our image search\n",
    "# Legend shows counts of imagery found by sensor, dots show coverage over time \n",
    "st.searchPlot(results)"
   ]
  },
  {
   "cell_type": "code",
   "execution_count": null,
   "metadata": {},
   "outputs": [],
   "source": [
    "# TODO: what does coverage look like on a map? "
   ]
  }
 ],
 "metadata": {
  "kernelspec": {
   "display_name": "Python 3",
   "language": "python",
   "name": "python3"
  },
  "language_info": {
   "codemirror_mode": {
    "name": "ipython",
    "version": 3
   },
   "file_extension": ".py",
   "mimetype": "text/x-python",
   "name": "python",
   "nbconvert_exporter": "python",
   "pygments_lexer": "ipython3",
   "version": "3.6.5"
  }
 },
 "nbformat": 4,
 "nbformat_minor": 2
}
